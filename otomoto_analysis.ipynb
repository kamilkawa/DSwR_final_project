{
 "cells": [
  {
   "cell_type": "code",
   "execution_count": 1,
   "id": "e7734617",
   "metadata": {},
   "outputs": [],
   "source": [
    "import pandas as pd\n",
    "import os\n",
    "import glob\n",
    "import matplotlib.pyplot as plt\n",
    "import seaborn as sns\n",
    "from scipy import stats\n",
    "\n",
    "\n",
    "pd.set_option('display.max_rows', 500)\n",
    "pd.set_option('display.max_columns', 500)\n",
    "pd.set_option('display.width', 1000)\n",
    "sns.set(rc={'figure.figsize':(12.7,8.27)})\n"
   ]
  },
  {
   "cell_type": "code",
   "execution_count": 2,
   "id": "8dc6da75",
   "metadata": {},
   "outputs": [],
   "source": [
    "path = \"/Users/kamil/Desktop/Otomoto_projekt/csv_files\" # use your path\n",
    "all_files = glob.glob(os.path.join(path , \"*.csv\"))\n",
    "\n",
    "li = []\n",
    "\n",
    "for filename in all_files:\n",
    "    df = pd.read_csv(filename)\n",
    "    li.append(df)\n",
    "\n",
    "otomoto_df = pd.concat(li, axis=0, ignore_index=True)"
   ]
  },
  {
   "cell_type": "code",
   "execution_count": 3,
   "id": "c99a07a3",
   "metadata": {},
   "outputs": [
    {
     "data": {
      "text/plain": [
       "(262711, 22)"
      ]
     },
     "execution_count": 3,
     "metadata": {},
     "output_type": "execute_result"
    }
   ],
   "source": [
    "otomoto_df.shape"
   ]
  },
  {
   "cell_type": "code",
   "execution_count": 4,
   "id": "2a33108d",
   "metadata": {},
   "outputs": [
    {
     "data": {
      "text/plain": [
       "155418"
      ]
     },
     "execution_count": 4,
     "metadata": {},
     "output_type": "execute_result"
    }
   ],
   "source": [
    "otomoto_df.link.nunique()"
   ]
  },
  {
   "cell_type": "code",
   "execution_count": 5,
   "id": "dd8b1258",
   "metadata": {},
   "outputs": [
    {
     "data": {
      "text/plain": [
       "Index(['Unnamed: 0', 'link', 'features', 'state', 'year', 'mileage_km', 'engine_power', 'engine_capacity', 'fuel_type', 'price', 'city', 'region', 'make', 'model', 'version', 'category', 'color', 'origin', 'gearbox', 'transmission', 'private_business', 'ad_id'], dtype='object')"
      ]
     },
     "execution_count": 5,
     "metadata": {},
     "output_type": "execute_result"
    }
   ],
   "source": [
    "otomoto_df.columns"
   ]
  },
  {
   "cell_type": "code",
   "execution_count": 6,
   "id": "3f1670ef",
   "metadata": {},
   "outputs": [],
   "source": [
    "otomoto_df.drop_duplicates('link', inplace=True)\n",
    "otomoto_df.drop('Unnamed: 0', inplace=True, axis=1)"
   ]
  },
  {
   "cell_type": "code",
   "execution_count": 7,
   "id": "40b7ac97",
   "metadata": {},
   "outputs": [
    {
     "data": {
      "text/plain": [
       "(155418, 21)"
      ]
     },
     "execution_count": 7,
     "metadata": {},
     "output_type": "execute_result"
    }
   ],
   "source": [
    "otomoto_df.shape"
   ]
  },
  {
   "cell_type": "code",
   "execution_count": 8,
   "id": "fa9e53db",
   "metadata": {},
   "outputs": [
    {
     "data": {
      "text/plain": [
       "Używane    142307\n",
       "Nowe        13111\n",
       "Name: state, dtype: int64"
      ]
     },
     "execution_count": 8,
     "metadata": {},
     "output_type": "execute_result"
    }
   ],
   "source": [
    "otomoto_df['state'].value_counts()"
   ]
  },
  {
   "cell_type": "markdown",
   "id": "f6233d15",
   "metadata": {},
   "source": [
    "## Checking and adjusting types of variables"
   ]
  },
  {
   "cell_type": "code",
   "execution_count": 9,
   "id": "ceb53818",
   "metadata": {},
   "outputs": [
    {
     "data": {
      "text/html": [
       "<div>\n",
       "<style scoped>\n",
       "    .dataframe tbody tr th:only-of-type {\n",
       "        vertical-align: middle;\n",
       "    }\n",
       "\n",
       "    .dataframe tbody tr th {\n",
       "        vertical-align: top;\n",
       "    }\n",
       "\n",
       "    .dataframe thead th {\n",
       "        text-align: right;\n",
       "    }\n",
       "</style>\n",
       "<table border=\"1\" class=\"dataframe\">\n",
       "  <thead>\n",
       "    <tr style=\"text-align: right;\">\n",
       "      <th></th>\n",
       "      <th>link</th>\n",
       "      <th>features</th>\n",
       "      <th>state</th>\n",
       "      <th>year</th>\n",
       "      <th>mileage_km</th>\n",
       "      <th>engine_power</th>\n",
       "      <th>engine_capacity</th>\n",
       "      <th>fuel_type</th>\n",
       "      <th>price</th>\n",
       "      <th>city</th>\n",
       "      <th>region</th>\n",
       "      <th>make</th>\n",
       "      <th>model</th>\n",
       "      <th>version</th>\n",
       "      <th>category</th>\n",
       "      <th>color</th>\n",
       "      <th>origin</th>\n",
       "      <th>gearbox</th>\n",
       "      <th>transmission</th>\n",
       "      <th>private_business</th>\n",
       "      <th>ad_id</th>\n",
       "    </tr>\n",
       "  </thead>\n",
       "  <tbody>\n",
       "    <tr>\n",
       "      <th>0</th>\n",
       "      <td>https://www.otomoto.pl/oferta/fiat-fiorino-fia...</td>\n",
       "      <td>['abs', 'alloy-wheels', 'asr', 'bluetooth', 'c...</td>\n",
       "      <td>Używane</td>\n",
       "      <td>2021.0</td>\n",
       "      <td>2500.0</td>\n",
       "      <td>80.0</td>\n",
       "      <td>1248.0</td>\n",
       "      <td>diesel</td>\n",
       "      <td>80000.0</td>\n",
       "      <td>swarzedz</td>\n",
       "      <td>wielkopolskie</td>\n",
       "      <td>fiat</td>\n",
       "      <td>fiorino</td>\n",
       "      <td>NaN</td>\n",
       "      <td>minivan</td>\n",
       "      <td>grey</td>\n",
       "      <td>pl</td>\n",
       "      <td>manual</td>\n",
       "      <td>front-wheel</td>\n",
       "      <td>private</td>\n",
       "      <td>6.095545e+09</td>\n",
       "    </tr>\n",
       "    <tr>\n",
       "      <th>1</th>\n",
       "      <td>https://www.otomoto.pl/oferta/fiat-sedici-fiat...</td>\n",
       "      <td>['abs', 'asr', 'electric-exterior-mirror', 'el...</td>\n",
       "      <td>Używane</td>\n",
       "      <td>2009.0</td>\n",
       "      <td>180000.0</td>\n",
       "      <td>107.0</td>\n",
       "      <td>1586.0</td>\n",
       "      <td>petrol</td>\n",
       "      <td>22900.0</td>\n",
       "      <td>swiatniki-gorne</td>\n",
       "      <td>malopolskie</td>\n",
       "      <td>fiat</td>\n",
       "      <td>sedici</td>\n",
       "      <td>NaN</td>\n",
       "      <td>suv</td>\n",
       "      <td>white</td>\n",
       "      <td>i</td>\n",
       "      <td>manual</td>\n",
       "      <td>all-wheel-lock</td>\n",
       "      <td>private</td>\n",
       "      <td>6.096721e+09</td>\n",
       "    </tr>\n",
       "    <tr>\n",
       "      <th>2</th>\n",
       "      <td>https://www.otomoto.pl/oferta/fiat-bravo-ID6EB...</td>\n",
       "      <td>['abs', 'cd', 'central-lock', 'front-electric-...</td>\n",
       "      <td>Używane</td>\n",
       "      <td>2011.0</td>\n",
       "      <td>120000.0</td>\n",
       "      <td>90.0</td>\n",
       "      <td>1368.0</td>\n",
       "      <td>petrol</td>\n",
       "      <td>20500.0</td>\n",
       "      <td>sosnowiec</td>\n",
       "      <td>slaskie</td>\n",
       "      <td>fiat</td>\n",
       "      <td>bravo</td>\n",
       "      <td>gen-ii-2007-bravo</td>\n",
       "      <td>compact</td>\n",
       "      <td>black</td>\n",
       "      <td>NaN</td>\n",
       "      <td>manual</td>\n",
       "      <td>front-wheel</td>\n",
       "      <td>private</td>\n",
       "      <td>6.096719e+09</td>\n",
       "    </tr>\n",
       "    <tr>\n",
       "      <th>3</th>\n",
       "      <td>https://www.otomoto.pl/oferta/fiat-punto-evo-1...</td>\n",
       "      <td>['abs', 'bluetooth', 'alloy-wheels', 'alarm', ...</td>\n",
       "      <td>Używane</td>\n",
       "      <td>2011.0</td>\n",
       "      <td>134319.0</td>\n",
       "      <td>70.0</td>\n",
       "      <td>1242.0</td>\n",
       "      <td>petrol</td>\n",
       "      <td>17400.0</td>\n",
       "      <td>ruda-slaska</td>\n",
       "      <td>slaskie</td>\n",
       "      <td>fiat</td>\n",
       "      <td>punto-evo</td>\n",
       "      <td>NaN</td>\n",
       "      <td>city-car</td>\n",
       "      <td>black</td>\n",
       "      <td>NaN</td>\n",
       "      <td>manual</td>\n",
       "      <td>front-wheel</td>\n",
       "      <td>private</td>\n",
       "      <td>6.096523e+09</td>\n",
       "    </tr>\n",
       "    <tr>\n",
       "      <th>4</th>\n",
       "      <td>https://www.otomoto.pl/oferta/fiat-ducato-max-...</td>\n",
       "      <td>['abs', 'alarm', 'asr', 'central-lock', 'cd', ...</td>\n",
       "      <td>Używane</td>\n",
       "      <td>2010.0</td>\n",
       "      <td>137000.0</td>\n",
       "      <td>120.0</td>\n",
       "      <td>2287.0</td>\n",
       "      <td>diesel</td>\n",
       "      <td>32900.0</td>\n",
       "      <td>rakow_71907</td>\n",
       "      <td>swietokrzyskie</td>\n",
       "      <td>fiat</td>\n",
       "      <td>ducato</td>\n",
       "      <td>gen-iii-2007-ducato</td>\n",
       "      <td>minivan</td>\n",
       "      <td>white</td>\n",
       "      <td>pl</td>\n",
       "      <td>manual</td>\n",
       "      <td>front-wheel</td>\n",
       "      <td>private</td>\n",
       "      <td>6.096724e+09</td>\n",
       "    </tr>\n",
       "  </tbody>\n",
       "</table>\n",
       "</div>"
      ],
      "text/plain": [
       "                                                link                                           features    state    year  mileage_km  engine_power  engine_capacity fuel_type    price             city          region  make      model              version  category  color origin gearbox    transmission private_business         ad_id\n",
       "0  https://www.otomoto.pl/oferta/fiat-fiorino-fia...  ['abs', 'alloy-wheels', 'asr', 'bluetooth', 'c...  Używane  2021.0      2500.0          80.0           1248.0    diesel  80000.0         swarzedz   wielkopolskie  fiat    fiorino                  NaN   minivan   grey     pl  manual     front-wheel          private  6.095545e+09\n",
       "1  https://www.otomoto.pl/oferta/fiat-sedici-fiat...  ['abs', 'asr', 'electric-exterior-mirror', 'el...  Używane  2009.0    180000.0         107.0           1586.0    petrol  22900.0  swiatniki-gorne     malopolskie  fiat     sedici                  NaN       suv  white      i  manual  all-wheel-lock          private  6.096721e+09\n",
       "2  https://www.otomoto.pl/oferta/fiat-bravo-ID6EB...  ['abs', 'cd', 'central-lock', 'front-electric-...  Używane  2011.0    120000.0          90.0           1368.0    petrol  20500.0        sosnowiec         slaskie  fiat      bravo    gen-ii-2007-bravo   compact  black    NaN  manual     front-wheel          private  6.096719e+09\n",
       "3  https://www.otomoto.pl/oferta/fiat-punto-evo-1...  ['abs', 'bluetooth', 'alloy-wheels', 'alarm', ...  Używane  2011.0    134319.0          70.0           1242.0    petrol  17400.0      ruda-slaska         slaskie  fiat  punto-evo                  NaN  city-car  black    NaN  manual     front-wheel          private  6.096523e+09\n",
       "4  https://www.otomoto.pl/oferta/fiat-ducato-max-...  ['abs', 'alarm', 'asr', 'central-lock', 'cd', ...  Używane  2010.0    137000.0         120.0           2287.0    diesel  32900.0      rakow_71907  swietokrzyskie  fiat     ducato  gen-iii-2007-ducato   minivan  white     pl  manual     front-wheel          private  6.096724e+09"
      ]
     },
     "execution_count": 9,
     "metadata": {},
     "output_type": "execute_result"
    }
   ],
   "source": [
    "otomoto_df.head()"
   ]
  },
  {
   "cell_type": "code",
   "execution_count": 10,
   "id": "c3c050e1",
   "metadata": {},
   "outputs": [
    {
     "data": {
      "text/plain": [
       "link                 object\n",
       "features             object\n",
       "state                object\n",
       "year                float64\n",
       "mileage_km          float64\n",
       "engine_power        float64\n",
       "engine_capacity     float64\n",
       "fuel_type            object\n",
       "price               float64\n",
       "city                 object\n",
       "region               object\n",
       "make                 object\n",
       "model                object\n",
       "version              object\n",
       "category             object\n",
       "color                object\n",
       "origin               object\n",
       "gearbox              object\n",
       "transmission         object\n",
       "private_business     object\n",
       "ad_id               float64\n",
       "dtype: object"
      ]
     },
     "execution_count": 10,
     "metadata": {},
     "output_type": "execute_result"
    }
   ],
   "source": [
    "otomoto_df.dtypes"
   ]
  },
  {
   "cell_type": "code",
   "execution_count": 11,
   "id": "f4819778",
   "metadata": {},
   "outputs": [
    {
     "data": {
      "text/plain": [
       "<AxesSubplot:xlabel='state', ylabel='Count'>"
      ]
     },
     "execution_count": 11,
     "metadata": {},
     "output_type": "execute_result"
    },
    {
     "data": {
      "image/png": "[encoded data removed]",
      "text/plain": [
       "<Figure size 914.4x595.44 with 1 Axes>"
      ]
     },
     "metadata": {},
     "output_type": "display_data"
    }
   ],
   "source": [
    "sns.histplot(otomoto_df['state'])\n"
   ]
  },
  {
   "cell_type": "code",
   "execution_count": 43,
   "id": "c97864fb",
   "metadata": {},
   "outputs": [
    {
     "data": {
      "text/plain": [
       "<AxesSubplot:xlabel='price', ylabel='Density'>"
      ]
     },
     "execution_count": 43,
     "metadata": {},
     "output_type": "execute_result"
    },
    {
     "data": {
      "image/png": "[encoded data removed]",
      "text/plain": [
       "<Figure size 432x288 with 1 Axes>"
      ]
     },
     "metadata": {
      "needs_background": "light"
     },
     "output_type": "display_data"
    }
   ],
   "source": [
    "sns.kdeplot(otomoto_df['price'],shade=True)"
   ]
  },
  {
   "cell_type": "code",
   "execution_count": 12,
   "id": "d90282da",
   "metadata": {},
   "outputs": [
    {
     "data": {
      "image/png": "[encoded data removed]",
      "text/plain": [
       "<Figure size 914.4x595.44 with 1 Axes>"
      ]
     },
     "metadata": {},
     "output_type": "display_data"
    }
   ],
   "source": [
    "sns.kdeplot(otomoto_df['price'],shade=True)\n",
    "plt.xscale('log')\n",
    "plt.show()"
   ]
  },
  {
   "cell_type": "code",
   "execution_count": 13,
   "id": "474c2170",
   "metadata": {},
   "outputs": [
    {
     "data": {
      "image/png": "[encoded data removed]",
      "text/plain": [
       "<Figure size 914.4x595.44 with 1 Axes>"
      ]
     },
     "metadata": {},
     "output_type": "display_data"
    }
   ],
   "source": [
    "for i in [100000,200000,500000]:\n",
    "    sns.kdeplot(x = otomoto_df[otomoto_df['price']<=i]['price'],\n",
    "                shade=True)"
   ]
  },
  {
   "cell_type": "code",
   "execution_count": 14,
   "id": "4610bccb",
   "metadata": {},
   "outputs": [
    {
     "data": {
      "text/plain": [
       "count    1.551940e+05\n",
       "mean     7.217479e+04\n",
       "std      3.180063e+05\n",
       "min      6.000000e+02\n",
       "25%      2.190000e+04\n",
       "50%      4.290000e+04\n",
       "75%      8.370000e+04\n",
       "max      1.199000e+08\n",
       "Name: price, dtype: float64"
      ]
     },
     "execution_count": 14,
     "metadata": {},
     "output_type": "execute_result"
    }
   ],
   "source": [
    "otomoto_df['price'].describe()"
   ]
  },
  {
   "cell_type": "code",
   "execution_count": 15,
   "id": "8cc05429",
   "metadata": {},
   "outputs": [
    {
     "data": {
      "text/plain": [
       "175834    https://www.otomoto.pl/oferta/mercedes-benz-kl...\n",
       "Name: link, dtype: object"
      ]
     },
     "execution_count": 15,
     "metadata": {},
     "output_type": "execute_result"
    }
   ],
   "source": [
    "otomoto_df[otomoto_df['price']==otomoto_df['price'].max()]['link']"
   ]
  },
  {
   "cell_type": "code",
   "execution_count": 16,
   "id": "a908e900",
   "metadata": {},
   "outputs": [
    {
     "data": {
      "text/plain": [
       "Index(['link', 'features', 'state', 'year', 'mileage_km', 'engine_power', 'engine_capacity', 'fuel_type', 'price', 'city', 'region', 'make', 'model', 'version', 'category', 'color', 'origin', 'gearbox', 'transmission', 'private_business', 'ad_id'], dtype='object')"
      ]
     },
     "execution_count": 16,
     "metadata": {},
     "output_type": "execute_result"
    }
   ],
   "source": [
    "otomoto_df.columns"
   ]
  },
  {
   "cell_type": "code",
   "execution_count": 17,
   "id": "eda1000f",
   "metadata": {},
   "outputs": [
    {
     "data": {
      "text/plain": [
       "<AxesSubplot:xlabel='mileage_km', ylabel='price'>"
      ]
     },
     "execution_count": 17,
     "metadata": {},
     "output_type": "execute_result"
    },
    {
     "data": {
      "image/png": "[encoded data removed]",
      "text/plain": [
       "<Figure size 914.4x595.44 with 1 Axes>"
      ]
     },
     "metadata": {},
     "output_type": "display_data"
    }
   ],
   "source": [
    "sns.scatterplot(data=otomoto_df,\n",
    "               x='mileage_km',\n",
    "               y='price')"
   ]
  },
  {
   "cell_type": "code",
   "execution_count": 18,
   "id": "6f899202",
   "metadata": {},
   "outputs": [
    {
     "data": {
      "text/plain": [
       "66800.66497938415"
      ]
     },
     "execution_count": 18,
     "metadata": {},
     "output_type": "execute_result"
    }
   ],
   "source": [
    "stats.trim_mean(otomoto_df['price'], 0.01)\n"
   ]
  },
  {
   "cell_type": "code",
   "execution_count": 19,
   "id": "b3e53ae2",
   "metadata": {},
   "outputs": [
    {
     "data": {
      "text/plain": [
       "72174.79314805979"
      ]
     },
     "execution_count": 19,
     "metadata": {},
     "output_type": "execute_result"
    }
   ],
   "source": [
    "otomoto_df['price'].mean()"
   ]
  },
  {
   "cell_type": "code",
   "execution_count": 20,
   "id": "faf8d0ff",
   "metadata": {},
   "outputs": [
    {
     "data": {
      "text/plain": [
       "71402.67182037843"
      ]
     },
     "execution_count": 20,
     "metadata": {},
     "output_type": "execute_result"
    }
   ],
   "source": [
    "otomoto_df =  otomoto_df[otomoto_df['link'] != otomoto_df.loc[otomoto_df['price'].idxmax(), 'link']]\n",
    "otomoto_df['price'].mean()"
   ]
  },
  {
   "cell_type": "code",
   "execution_count": 21,
   "id": "ee5948c0",
   "metadata": {},
   "outputs": [
    {
     "data": {
      "text/plain": [
       "count    1.551930e+05\n",
       "mean     7.140267e+04\n",
       "std      9.276777e+04\n",
       "min      6.000000e+02\n",
       "25%      2.190000e+04\n",
       "50%      4.290000e+04\n",
       "75%      8.370000e+04\n",
       "max      4.444444e+06\n",
       "Name: price, dtype: float64"
      ]
     },
     "execution_count": 21,
     "metadata": {},
     "output_type": "execute_result"
    }
   ],
   "source": [
    "otomoto_df['price'].describe()"
   ]
  },
  {
   "cell_type": "code",
   "execution_count": 22,
   "id": "c8c25218",
   "metadata": {},
   "outputs": [
    {
     "data": {
      "text/html": [
       "<div>\n",
       "<style scoped>\n",
       "    .dataframe tbody tr th:only-of-type {\n",
       "        vertical-align: middle;\n",
       "    }\n",
       "\n",
       "    .dataframe tbody tr th {\n",
       "        vertical-align: top;\n",
       "    }\n",
       "\n",
       "    .dataframe thead th {\n",
       "        text-align: right;\n",
       "    }\n",
       "</style>\n",
       "<table border=\"1\" class=\"dataframe\">\n",
       "  <thead>\n",
       "    <tr style=\"text-align: right;\">\n",
       "      <th></th>\n",
       "      <th>price</th>\n",
       "      <th>link</th>\n",
       "    </tr>\n",
       "  </thead>\n",
       "  <tbody>\n",
       "    <tr>\n",
       "      <th>91214</th>\n",
       "      <td>739900.0</td>\n",
       "      <td>https://www.otomoto.pl/oferta/land-rover-range...</td>\n",
       "    </tr>\n",
       "    <tr>\n",
       "      <th>174141</th>\n",
       "      <td>749900.0</td>\n",
       "      <td>https://www.otomoto.pl/oferta/mercedes-benz-kl...</td>\n",
       "    </tr>\n",
       "    <tr>\n",
       "      <th>239696</th>\n",
       "      <td>750000.0</td>\n",
       "      <td>https://www.otomoto.pl/oferta/porsche-911-pors...</td>\n",
       "    </tr>\n",
       "    <tr>\n",
       "      <th>250737</th>\n",
       "      <td>750700.0</td>\n",
       "      <td>https://www.otomoto.pl/oferta/porsche-911-turb...</td>\n",
       "    </tr>\n",
       "    <tr>\n",
       "      <th>172957</th>\n",
       "      <td>752600.0</td>\n",
       "      <td>https://www.otomoto.pl/oferta/mercedes-benz-kl...</td>\n",
       "    </tr>\n",
       "    <tr>\n",
       "      <th>179044</th>\n",
       "      <td>753900.0</td>\n",
       "      <td>https://www.otomoto.pl/oferta/mercedes-benz-kl...</td>\n",
       "    </tr>\n",
       "    <tr>\n",
       "      <th>172111</th>\n",
       "      <td>755000.0</td>\n",
       "      <td>https://www.otomoto.pl/oferta/audi-a8-a8-salon...</td>\n",
       "    </tr>\n",
       "    <tr>\n",
       "      <th>241572</th>\n",
       "      <td>764700.0</td>\n",
       "      <td>https://www.otomoto.pl/oferta/bmw-x6-m-competi...</td>\n",
       "    </tr>\n",
       "    <tr>\n",
       "      <th>168925</th>\n",
       "      <td>764900.0</td>\n",
       "      <td>https://www.otomoto.pl/oferta/audi-s8-4-0tfsi-...</td>\n",
       "    </tr>\n",
       "    <tr>\n",
       "      <th>250530</th>\n",
       "      <td>772000.0</td>\n",
       "      <td>https://www.otomoto.pl/oferta/porsche-911-turb...</td>\n",
       "    </tr>\n",
       "    <tr>\n",
       "      <th>90348</th>\n",
       "      <td>772400.0</td>\n",
       "      <td>https://www.otomoto.pl/oferta/land-rover-range...</td>\n",
       "    </tr>\n",
       "    <tr>\n",
       "      <th>238214</th>\n",
       "      <td>778500.0</td>\n",
       "      <td>https://www.otomoto.pl/oferta/bmw-seria-5-4-4-...</td>\n",
       "    </tr>\n",
       "    <tr>\n",
       "      <th>147971</th>\n",
       "      <td>782600.0</td>\n",
       "      <td>https://www.otomoto.pl/oferta/bmw-seria-8-od-r...</td>\n",
       "    </tr>\n",
       "    <tr>\n",
       "      <th>165759</th>\n",
       "      <td>788801.0</td>\n",
       "      <td>https://www.otomoto.pl/oferta/audi-s8-tfsi-qua...</td>\n",
       "    </tr>\n",
       "    <tr>\n",
       "      <th>248851</th>\n",
       "      <td>789900.0</td>\n",
       "      <td>https://www.otomoto.pl/oferta/porsche-911-carr...</td>\n",
       "    </tr>\n",
       "    <tr>\n",
       "      <th>248208</th>\n",
       "      <td>799999.0</td>\n",
       "      <td>https://www.otomoto.pl/oferta/porsche-cayenne-...</td>\n",
       "    </tr>\n",
       "    <tr>\n",
       "      <th>114141</th>\n",
       "      <td>799999.0</td>\n",
       "      <td>https://www.otomoto.pl/oferta/mercedes-benz-kl...</td>\n",
       "    </tr>\n",
       "    <tr>\n",
       "      <th>248211</th>\n",
       "      <td>809999.0</td>\n",
       "      <td>https://www.otomoto.pl/oferta/porsche-cayenne-...</td>\n",
       "    </tr>\n",
       "    <tr>\n",
       "      <th>247940</th>\n",
       "      <td>830000.0</td>\n",
       "      <td>https://www.otomoto.pl/oferta/porsche-911-sprz...</td>\n",
       "    </tr>\n",
       "    <tr>\n",
       "      <th>178889</th>\n",
       "      <td>858900.0</td>\n",
       "      <td>https://www.otomoto.pl/oferta/mercedes-benz-kl...</td>\n",
       "    </tr>\n",
       "    <tr>\n",
       "      <th>250777</th>\n",
       "      <td>899900.0</td>\n",
       "      <td>https://www.otomoto.pl/oferta/porsche-911-turb...</td>\n",
       "    </tr>\n",
       "    <tr>\n",
       "      <th>239769</th>\n",
       "      <td>905000.0</td>\n",
       "      <td>https://www.otomoto.pl/oferta/bmw-seria-8-od-r...</td>\n",
       "    </tr>\n",
       "    <tr>\n",
       "      <th>149794</th>\n",
       "      <td>952500.0</td>\n",
       "      <td>https://www.otomoto.pl/oferta/bmw-seria-8-m8-c...</td>\n",
       "    </tr>\n",
       "    <tr>\n",
       "      <th>248578</th>\n",
       "      <td>959000.0</td>\n",
       "      <td>https://www.otomoto.pl/oferta/porsche-cayenne-...</td>\n",
       "    </tr>\n",
       "    <tr>\n",
       "      <th>249557</th>\n",
       "      <td>959992.0</td>\n",
       "      <td>https://www.otomoto.pl/oferta/porsche-911-s-pt...</td>\n",
       "    </tr>\n",
       "    <tr>\n",
       "      <th>249542</th>\n",
       "      <td>960000.0</td>\n",
       "      <td>https://www.otomoto.pl/oferta/porsche-cayenne-...</td>\n",
       "    </tr>\n",
       "    <tr>\n",
       "      <th>251032</th>\n",
       "      <td>999000.0</td>\n",
       "      <td>https://www.otomoto.pl/oferta/porsche-cayenne-...</td>\n",
       "    </tr>\n",
       "    <tr>\n",
       "      <th>250745</th>\n",
       "      <td>999000.0</td>\n",
       "      <td>https://www.otomoto.pl/oferta/porsche-911-pors...</td>\n",
       "    </tr>\n",
       "    <tr>\n",
       "      <th>179170</th>\n",
       "      <td>1000000.0</td>\n",
       "      <td>https://www.otomoto.pl/oferta/mercedes-benz-kl...</td>\n",
       "    </tr>\n",
       "    <tr>\n",
       "      <th>250234</th>\n",
       "      <td>1000930.0</td>\n",
       "      <td>https://www.otomoto.pl/oferta/porsche-911-turb...</td>\n",
       "    </tr>\n",
       "    <tr>\n",
       "      <th>249797</th>\n",
       "      <td>1002007.0</td>\n",
       "      <td>https://www.otomoto.pl/oferta/porsche-911-targ...</td>\n",
       "    </tr>\n",
       "    <tr>\n",
       "      <th>149793</th>\n",
       "      <td>1005900.0</td>\n",
       "      <td>https://www.otomoto.pl/oferta/bmw-seria-8-4-4-...</td>\n",
       "    </tr>\n",
       "    <tr>\n",
       "      <th>248142</th>\n",
       "      <td>1019992.0</td>\n",
       "      <td>https://www.otomoto.pl/oferta/porsche-911-carr...</td>\n",
       "    </tr>\n",
       "    <tr>\n",
       "      <th>90379</th>\n",
       "      <td>1038750.0</td>\n",
       "      <td>https://www.otomoto.pl/oferta/land-rover-range...</td>\n",
       "    </tr>\n",
       "    <tr>\n",
       "      <th>179169</th>\n",
       "      <td>1050000.0</td>\n",
       "      <td>https://www.otomoto.pl/oferta/mercedes-benz-kl...</td>\n",
       "    </tr>\n",
       "    <tr>\n",
       "      <th>178149</th>\n",
       "      <td>1090000.0</td>\n",
       "      <td>https://www.otomoto.pl/oferta/mercedes-benz-kl...</td>\n",
       "    </tr>\n",
       "    <tr>\n",
       "      <th>177932</th>\n",
       "      <td>1138211.0</td>\n",
       "      <td>https://www.otomoto.pl/oferta/mercedes-benz-kl...</td>\n",
       "    </tr>\n",
       "    <tr>\n",
       "      <th>176335</th>\n",
       "      <td>1190000.0</td>\n",
       "      <td>https://www.otomoto.pl/oferta/mercedes-benz-kl...</td>\n",
       "    </tr>\n",
       "    <tr>\n",
       "      <th>248322</th>\n",
       "      <td>1390000.0</td>\n",
       "      <td>https://www.otomoto.pl/oferta/porsche-911-gt3-...</td>\n",
       "    </tr>\n",
       "    <tr>\n",
       "      <th>248653</th>\n",
       "      <td>1911000.0</td>\n",
       "      <td>https://www.otomoto.pl/oferta/porsche-911-pors...</td>\n",
       "    </tr>\n",
       "  </tbody>\n",
       "</table>\n",
       "</div>"
      ],
      "text/plain": [
       "            price                                               link\n",
       "91214    739900.0  https://www.otomoto.pl/oferta/land-rover-range...\n",
       "174141   749900.0  https://www.otomoto.pl/oferta/mercedes-benz-kl...\n",
       "239696   750000.0  https://www.otomoto.pl/oferta/porsche-911-pors...\n",
       "250737   750700.0  https://www.otomoto.pl/oferta/porsche-911-turb...\n",
       "172957   752600.0  https://www.otomoto.pl/oferta/mercedes-benz-kl...\n",
       "179044   753900.0  https://www.otomoto.pl/oferta/mercedes-benz-kl...\n",
       "172111   755000.0  https://www.otomoto.pl/oferta/audi-a8-a8-salon...\n",
       "241572   764700.0  https://www.otomoto.pl/oferta/bmw-x6-m-competi...\n",
       "168925   764900.0  https://www.otomoto.pl/oferta/audi-s8-4-0tfsi-...\n",
       "250530   772000.0  https://www.otomoto.pl/oferta/porsche-911-turb...\n",
       "90348    772400.0  https://www.otomoto.pl/oferta/land-rover-range...\n",
       "238214   778500.0  https://www.otomoto.pl/oferta/bmw-seria-5-4-4-...\n",
       "147971   782600.0  https://www.otomoto.pl/oferta/bmw-seria-8-od-r...\n",
       "165759   788801.0  https://www.otomoto.pl/oferta/audi-s8-tfsi-qua...\n",
       "248851   789900.0  https://www.otomoto.pl/oferta/porsche-911-carr...\n",
       "248208   799999.0  https://www.otomoto.pl/oferta/porsche-cayenne-...\n",
       "114141   799999.0  https://www.otomoto.pl/oferta/mercedes-benz-kl...\n",
       "248211   809999.0  https://www.otomoto.pl/oferta/porsche-cayenne-...\n",
       "247940   830000.0  https://www.otomoto.pl/oferta/porsche-911-sprz...\n",
       "178889   858900.0  https://www.otomoto.pl/oferta/mercedes-benz-kl...\n",
       "250777   899900.0  https://www.otomoto.pl/oferta/porsche-911-turb...\n",
       "239769   905000.0  https://www.otomoto.pl/oferta/bmw-seria-8-od-r...\n",
       "149794   952500.0  https://www.otomoto.pl/oferta/bmw-seria-8-m8-c...\n",
       "248578   959000.0  https://www.otomoto.pl/oferta/porsche-cayenne-...\n",
       "249557   959992.0  https://www.otomoto.pl/oferta/porsche-911-s-pt...\n",
       "249542   960000.0  https://www.otomoto.pl/oferta/porsche-cayenne-...\n",
       "251032   999000.0  https://www.otomoto.pl/oferta/porsche-cayenne-...\n",
       "250745   999000.0  https://www.otomoto.pl/oferta/porsche-911-pors...\n",
       "179170  1000000.0  https://www.otomoto.pl/oferta/mercedes-benz-kl...\n",
       "250234  1000930.0  https://www.otomoto.pl/oferta/porsche-911-turb...\n",
       "249797  1002007.0  https://www.otomoto.pl/oferta/porsche-911-targ...\n",
       "149793  1005900.0  https://www.otomoto.pl/oferta/bmw-seria-8-4-4-...\n",
       "248142  1019992.0  https://www.otomoto.pl/oferta/porsche-911-carr...\n",
       "90379   1038750.0  https://www.otomoto.pl/oferta/land-rover-range...\n",
       "179169  1050000.0  https://www.otomoto.pl/oferta/mercedes-benz-kl...\n",
       "178149  1090000.0  https://www.otomoto.pl/oferta/mercedes-benz-kl...\n",
       "177932  1138211.0  https://www.otomoto.pl/oferta/mercedes-benz-kl...\n",
       "176335  1190000.0  https://www.otomoto.pl/oferta/mercedes-benz-kl...\n",
       "248322  1390000.0  https://www.otomoto.pl/oferta/porsche-911-gt3-...\n",
       "248653  1911000.0  https://www.otomoto.pl/oferta/porsche-911-pors..."
      ]
     },
     "execution_count": 22,
     "metadata": {},
     "output_type": "execute_result"
    }
   ],
   "source": [
    "otomoto_df.dropna().sort_values(by='price')[['price','link']].tail(40)"
   ]
  },
  {
   "cell_type": "code",
   "execution_count": 23,
   "id": "b294c40c",
   "metadata": {},
   "outputs": [
    {
     "data": {
      "text/plain": [
       "['https://www.otomoto.pl/oferta/volkswagen-polo-uzywany-do-codziennej-jazdy-ID6EA8y3.html',\n",
       " 'https://www.otomoto.pl/oferta/ford-mondeo-ford-mondeo-1-6-benzyna-rok-1998-ID6EAAZk.html',\n",
       " 'https://www.otomoto.pl/oferta/volkswagen-transporter-odbior-czerwiec-transporter-t6-1-150km-led-rata-leasingu-60-m-cy-ID6EuCU1.html',\n",
       " 'https://www.otomoto.pl/oferta/volkswagen-passat-volkswagen-passat-b4-1-8-b-85tys-kil-ID6EjQrm.html',\n",
       " 'https://www.otomoto.pl/oferta/opel-astra-sprzedam-opel-astra-f-classic-1-4-lpg-ID6EyHSp.html',\n",
       " 'https://www.otomoto.pl/oferta/ford-mondeo-ford-mondeo-kombi-ID6Emf9Q.html',\n",
       " 'https://www.otomoto.pl/oferta/renault-scenic-ID6EpiAU.html',\n",
       " 'https://www.otomoto.pl/oferta/nissan-primera-nissan-primera-1999r-1-8-benzyna-ID6EASdt.html',\n",
       " 'https://www.otomoto.pl/oferta/nissan-almera-nissan-almera-n16-1-8-benzyna-ID6Ez1OL.html',\n",
       " 'https://www.otomoto.pl/oferta/opel-vectra-vectra-b-od-1999-jeden-wlasciciel-250tys-przebiegu-ID6EABc5.html',\n",
       " 'https://www.otomoto.pl/oferta/opel-astra-opel-astra-i-ID6Ezw9H.html',\n",
       " 'https://www.otomoto.pl/oferta/ford-fiesta-mk-vi-1-4-tdci-el-szyby-ekonomiczny-okazja-ID6Ex5WL.html',\n",
       " 'https://www.otomoto.pl/oferta/mercedes-benz-klasa-a-mercedes-a-170-cdi-long-ID6EyW13.html',\n",
       " 'https://www.otomoto.pl/oferta/skoda-octavia-skoda-octavia-1-9tdi-lekko-uszkodzona-ID6EAxD6.html',\n",
       " 'https://www.otomoto.pl/oferta/opel-astra-26-lat-w-jednych-rekach-salon-pl-1-4-gl-ID6Ezt2Y.html',\n",
       " 'https://www.otomoto.pl/oferta/renault-twingo-renualt-twingo-1-2-ID6Ez5by.html',\n",
       " 'https://www.otomoto.pl/oferta/seat-cordoba-polski-salon-1-6-benzyna-elektryka-ID6Eszdh.html',\n",
       " 'https://www.otomoto.pl/oferta/ford-fiesta-ford-fiesta-1-3-automat-ID6EzuyR.html',\n",
       " 'https://www.otomoto.pl/oferta/mazda-3-ID6EAo5x.html',\n",
       " 'https://www.otomoto.pl/oferta/ford-focus-ford-focus-ii-2007-lpg-vialle-5-generacji-1-8-125km-tempomat-skora-ID6EvF0Q.html',\n",
       " 'https://www.otomoto.pl/oferta/renault-laguna-drugi-wlasciciel-xenon-brazowa-skora-niski-przebieg-okazja-ID6EB8jM.html',\n",
       " 'https://www.otomoto.pl/oferta/seat-ibiza-1-4i-benzyna-klimatyzacja-niski-przebieg-zarejestrowana-brak-kompresji-ID6EhFXm.html',\n",
       " 'https://www.otomoto.pl/oferta/subaru-impreza-kombi-2-0benz-4-4-klima-ele-wsp-kier-central-zarejestrowane-ID6Ewn3Q.html',\n",
       " 'https://www.otomoto.pl/oferta/opel-vectra-gts-2-2-dti-125km-klimatronik-aluski-skora-super-wyglad-9-ID6EzuRz.html',\n",
       " 'https://www.otomoto.pl/oferta/volkswagen-golf-golf-iii-1-9td-ID6EAPeH.html',\n",
       " 'https://www.otomoto.pl/oferta/seat-cordoba-ID6Ercvt.html',\n",
       " 'https://www.otomoto.pl/oferta/audi-80-gaz-oplaty-ID6Ey2Fq.html',\n",
       " 'https://www.otomoto.pl/oferta/seat-toledo-1-9-tdi-90-konny-klimatronik-alumy-radio-zarejestrowany-ubezpieczony-ID6Ey1Ma.html',\n",
       " 'https://www.otomoto.pl/oferta/opel-astra-zadbana-astra-1-8-kombi-hak-serwis-ID6EBaTQ.html',\n",
       " 'https://www.otomoto.pl/oferta/fiat-punto-5-drzwi-klima-silnik-1-2-bezwypadkowy-brak-kozozji-ID6EyHh4.html',\n",
       " 'https://www.otomoto.pl/oferta/volkswagen-golf-volkswagen-golf-1-6-benzyna-ID6EASbf.html',\n",
       " 'https://www.otomoto.pl/oferta/ford-focus-sprzeda-ford-focus-wazne-oc-i-przeglad-ID6Eu1nS.html',\n",
       " 'https://www.otomoto.pl/oferta/skoda-octavia-skoda-octavia-i-1999r-ID6EABoW.html',\n",
       " 'https://www.otomoto.pl/oferta/volkswagen-polo-kombi-1-4i-benzynka-man-wspomaganie-niski-przebieg-z-niemiec-oplacony-ID6EkkBE.html',\n",
       " 'https://www.otomoto.pl/oferta/renault-megane-1-9-dci-kombi-faktura-vat-23-ID6DgUb0.html',\n",
       " 'https://www.otomoto.pl/oferta/volkswagen-golf-1998r-5d-szyberdach-alu-elektryka-serwis-bezwypadkowy-ID6EABqJ.html',\n",
       " 'https://www.otomoto.pl/oferta/chrysler-grand-voyager-chrysler-grand-voyager-ID6EzwS5.html',\n",
       " 'https://www.otomoto.pl/oferta/opel-agila-1-2i-75km-klima-ele-szyby-lusterka-centralny-zamek-ID6EAfHI.html',\n",
       " 'https://www.otomoto.pl/oferta/renault-clio-renault-clio-3-2010r-uszkodzony-sprzedam-w-calosci-lub-na-czesci-ID6EADxn.html',\n",
       " 'https://www.otomoto.pl/oferta/opel-agila-bardzo-funkcjonalny-sprawny-nowy-akumulator-ID6EzwZR.html']"
      ]
     },
     "execution_count": 23,
     "metadata": {},
     "output_type": "execute_result"
    }
   ],
   "source": [
    "otomoto_df.dropna().sort_values(by='price')[['price','link']].head(40)['link'].to_list()"
   ]
  },
  {
   "cell_type": "code",
   "execution_count": 32,
   "id": "068570d2",
   "metadata": {},
   "outputs": [
    {
     "data": {
      "text/plain": [
       "258489    ['abs', 'central-lock', 'electronic-rearview-m...\n",
       "Name: features, dtype: object"
      ]
     },
     "execution_count": 32,
     "metadata": {},
     "output_type": "execute_result"
    }
   ],
   "source": [
    "otomoto_df[otomoto_df['link']=='https://www.otomoto.pl/oferta/renault-clio-renault-clio-3-2010r-uszkodzony-sprzedam-w-calosci-lub-na-czesci-ID6EADxn.html']['features']"
   ]
  },
  {
   "cell_type": "code",
   "execution_count": 24,
   "id": "68e6fd28",
   "metadata": {},
   "outputs": [],
   "source": [
    "def remove_outlier(df_in, col_name):\n",
    "    q1 = df_in[col_name].quantile(0.25)\n",
    "    q3 = df_in[col_name].quantile(0.75)\n",
    "    iqr = q3-q1 #Interquartile range\n",
    "    fence_low  = q1-1.5*iqr\n",
    "    fence_high = q3+1.5*iqr\n",
    "    df_out = df_in.loc[(df_in[col_name] > fence_low) & (df_in[col_name] < fence_high)]\n",
    "    return df_out"
   ]
  },
  {
   "cell_type": "code",
   "execution_count": 25,
   "id": "8990ca38",
   "metadata": {},
   "outputs": [
    {
     "data": {
      "text/plain": [
       "(155417, 21)"
      ]
     },
     "execution_count": 25,
     "metadata": {},
     "output_type": "execute_result"
    }
   ],
   "source": [
    "otomoto_df.shape"
   ]
  },
  {
   "cell_type": "code",
   "execution_count": 28,
   "id": "5d8e6552",
   "metadata": {},
   "outputs": [
    {
     "data": {
      "text/plain": [
       "<AxesSubplot:xlabel='mileage_km', ylabel='price'>"
      ]
     },
     "execution_count": 28,
     "metadata": {},
     "output_type": "execute_result"
    },
    {
     "data": {
      "image/png": "[encoded data removed]",
      "text/plain": [
       "<Figure size 914.4x595.44 with 1 Axes>"
      ]
     },
     "metadata": {},
     "output_type": "display_data"
    }
   ],
   "source": [
    "# sns.scatterplot(data=remove_outlier(otomoto_df, 'price'),\n",
    "#                x='mileage_km',\n",
    "#                y='price')\n",
    "\n",
    "sns.scatterplot(data=otomoto_df,\n",
    "               x='mileage_km',\n",
    "               y='price')\n",
    "\n",
    "\n",
    "\n",
    "\n",
    "\n"
   ]
  },
  {
   "cell_type": "code",
   "execution_count": 35,
   "id": "bc342805",
   "metadata": {},
   "outputs": [],
   "source": [
    "df = otomoto_df.groupby(['make', 'model']).mean().sort_values('price').tail(50)"
   ]
  },
  {
   "cell_type": "code",
   "execution_count": 39,
   "id": "dd242bc2",
   "metadata": {},
   "outputs": [
    {
     "data": {
      "text/plain": [
       "<AxesSubplot:xlabel='mileage_km', ylabel='price'>"
      ]
     },
     "execution_count": 39,
     "metadata": {},
     "output_type": "execute_result"
    },
    {
     "data": {
      "image/png": "[encoded data removed]",
      "text/plain": [
       "<Figure size 914.4x595.44 with 1 Axes>"
      ]
     },
     "metadata": {},
     "output_type": "display_data"
    }
   ],
   "source": [
    "sns.scatterplot(data=otomoto_df.groupby(['make', 'model']).mean(),\n",
    "               x='mileage_km',\n",
    "               y='price')"
   ]
  },
  {
   "cell_type": "code",
   "execution_count": 40,
   "id": "e4c0d3e8",
   "metadata": {},
   "outputs": [
    {
     "data": {
      "text/plain": [
       "Index(['link', 'features', 'state', 'year', 'mileage_km', 'engine_power', 'engine_capacity', 'fuel_type', 'price', 'city', 'region', 'make', 'model', 'version', 'category', 'color', 'origin', 'gearbox', 'transmission', 'private_business', 'ad_id'], dtype='object')"
      ]
     },
     "execution_count": 40,
     "metadata": {},
     "output_type": "execute_result"
    }
   ],
   "source": [
    "otomoto_df.columns"
   ]
  },
  {
   "cell_type": "code",
   "execution_count": 42,
   "id": "b86bbbe8",
   "metadata": {},
   "outputs": [
    {
     "data": {
      "text/plain": [
       "Używane    142306\n",
       "Nowe        13111\n",
       "Name: state, dtype: int64"
      ]
     },
     "execution_count": 42,
     "metadata": {},
     "output_type": "execute_result"
    }
   ],
   "source": [
    "otomoto_df['state'].value_counts()"
   ]
  },
  {
   "cell_type": "code",
   "execution_count": 48,
   "id": "ff03b601",
   "metadata": {},
   "outputs": [
    {
     "data": {
      "text/plain": [
       "[1927.0,\n",
       " 1939.0,\n",
       " 1941.0,\n",
       " 1946.0,\n",
       " 1948.0,\n",
       " 1950.0,\n",
       " 1951.0,\n",
       " 1953.0,\n",
       " 1954.0,\n",
       " 1955.0,\n",
       " 1957.0,\n",
       " 1958.0,\n",
       " 1959.0,\n",
       " 1960.0,\n",
       " 1961.0,\n",
       " 1963.0,\n",
       " 1964.0,\n",
       " 1965.0,\n",
       " 1966.0,\n",
       " 1967.0,\n",
       " 1968.0,\n",
       " 1969.0,\n",
       " 1970.0,\n",
       " 1971.0,\n",
       " 1972.0,\n",
       " 1973.0,\n",
       " 1974.0,\n",
       " 1975.0,\n",
       " 1976.0,\n",
       " 1977.0,\n",
       " 1978.0,\n",
       " 1979.0,\n",
       " 1980.0,\n",
       " 1981.0,\n",
       " 1982.0,\n",
       " 1983.0,\n",
       " 1984.0,\n",
       " 1985.0,\n",
       " 1986.0,\n",
       " 1987.0,\n",
       " 1988.0,\n",
       " 1989.0,\n",
       " 1990.0,\n",
       " 1991.0,\n",
       " 1992.0,\n",
       " 1993.0,\n",
       " 1994.0,\n",
       " 1995.0,\n",
       " 1996.0,\n",
       " 1997.0,\n",
       " 1998.0,\n",
       " 1999.0,\n",
       " 2000.0,\n",
       " 2001.0,\n",
       " 2002.0,\n",
       " 2003.0,\n",
       " 2004.0,\n",
       " 2005.0,\n",
       " 2006.0,\n",
       " 2007.0,\n",
       " 2008.0,\n",
       " 2009.0,\n",
       " 2010.0,\n",
       " 2011.0,\n",
       " 2012.0,\n",
       " 2013.0,\n",
       " 2014.0,\n",
       " 2015.0,\n",
       " 2016.0,\n",
       " 2017.0,\n",
       " 2018.0,\n",
       " 2019.0,\n",
       " 2020.0,\n",
       " 2021.0,\n",
       " 2022.0,\n",
       " nan]"
      ]
     },
     "execution_count": 48,
     "metadata": {},
     "output_type": "execute_result"
    }
   ],
   "source": [
    "sorted(otomoto_df['year'].unique())"
   ]
  },
  {
   "cell_type": "code",
   "execution_count": 49,
   "id": "5326397e",
   "metadata": {},
   "outputs": [
    {
     "data": {
      "text/plain": [
       "224"
      ]
     },
     "execution_count": 49,
     "metadata": {},
     "output_type": "execute_result"
    }
   ],
   "source": [
    "sum(otomoto_df['year'].isna())"
   ]
  },
  {
   "cell_type": "code",
   "execution_count": 51,
   "id": "055789c6",
   "metadata": {},
   "outputs": [
    {
     "data": {
      "text/plain": [
       "count    1.547830e+05\n",
       "mean     1.397428e+05\n",
       "std      9.242271e+04\n",
       "min      1.000000e+00\n",
       "25%      6.606450e+04\n",
       "50%      1.418170e+05\n",
       "75%      2.010000e+05\n",
       "max      2.900002e+06\n",
       "Name: mileage_km, dtype: float64"
      ]
     },
     "execution_count": 51,
     "metadata": {},
     "output_type": "execute_result"
    }
   ],
   "source": [
    "otomoto_df['mileage_km'].describe()"
   ]
  },
  {
   "cell_type": "code",
   "execution_count": 53,
   "id": "28a51f57",
   "metadata": {},
   "outputs": [
    {
     "data": {
      "text/plain": [
       "'https://www.otomoto.pl/oferta/volkswagen-golf-vw-golf-vi-140km-ID6EACYC.html'"
      ]
     },
     "execution_count": 53,
     "metadata": {},
     "output_type": "execute_result"
    }
   ],
   "source": [
    "otomoto_df.loc[otomoto_df['mileage_km'].idxmax(), 'link']"
   ]
  },
  {
   "cell_type": "code",
   "execution_count": 54,
   "id": "f382cb57",
   "metadata": {},
   "outputs": [
    {
     "data": {
      "text/plain": [
       "count    155144.000000\n",
       "mean        156.111052\n",
       "std          80.320751\n",
       "min           1.000000\n",
       "25%         109.000000\n",
       "50%         140.000000\n",
       "75%         180.000000\n",
       "max        1500.000000\n",
       "Name: engine_power, dtype: float64"
      ]
     },
     "execution_count": 54,
     "metadata": {},
     "output_type": "execute_result"
    }
   ],
   "source": [
    "otomoto_df['engine_power'].describe()"
   ]
  },
  {
   "cell_type": "code",
   "execution_count": 58,
   "id": "419732bd",
   "metadata": {},
   "outputs": [
    {
     "data": {
      "text/plain": [
       "'https://www.otomoto.pl/oferta/jeep-compass-compas-2-4-super-stan-kamera-automat-177km-sprawdz-ID6EpbdX.html'"
      ]
     },
     "execution_count": 58,
     "metadata": {},
     "output_type": "execute_result"
    }
   ],
   "source": [
    "otomoto_df.loc[otomoto_df['engine_power'].idxmin(), 'link']"
   ]
  },
  {
   "cell_type": "code",
   "execution_count": 70,
   "id": "7a391afe",
   "metadata": {},
   "outputs": [
    {
     "data": {
      "text/plain": [
       "4.0    36\n",
       "1.0    12\n",
       "3.0     3\n",
       "2.0     1\n",
       "Name: engine_power, dtype: int64"
      ]
     },
     "execution_count": 70,
     "metadata": {},
     "output_type": "execute_result"
    }
   ],
   "source": [
    "otomoto_df.loc[otomoto_df['engine_power']<5,'engine_power'].value_counts()"
   ]
  },
  {
   "cell_type": "code",
   "execution_count": 71,
   "id": "17463787",
   "metadata": {},
   "outputs": [
    {
     "data": {
      "text/plain": [
       "count    154100.000000\n",
       "mean       1894.291999\n",
       "std         759.732086\n",
       "min           1.000000\n",
       "25%        1461.000000\n",
       "50%        1796.000000\n",
       "75%        1997.000000\n",
       "max        8400.000000\n",
       "Name: engine_capacity, dtype: float64"
      ]
     },
     "execution_count": 71,
     "metadata": {},
     "output_type": "execute_result"
    }
   ],
   "source": [
    "otomoto_df['engine_capacity'].describe()"
   ]
  },
  {
   "cell_type": "code",
   "execution_count": 73,
   "id": "393031eb",
   "metadata": {},
   "outputs": [
    {
     "data": {
      "text/plain": [
       "'https://www.otomoto.pl/oferta/jeep-compass-compas-2-4-super-stan-kamera-automat-177km-sprawdz-ID6EpbdX.html'"
      ]
     },
     "execution_count": 73,
     "metadata": {},
     "output_type": "execute_result"
    }
   ],
   "source": [
    "otomoto_df.loc[otomoto_df['engine_power'].idxmin(), 'link']"
   ]
  },
  {
   "cell_type": "code",
   "execution_count": 33,
   "id": "3eb8fa5f",
   "metadata": {},
   "outputs": [
    {
     "data": {
      "text/plain": [
       "audi              12573\n",
       "volkswagen        12248\n",
       "opel              11829\n",
       "ford              10255\n",
       "mercedes-benz      9380\n",
       "bmw                9005\n",
       "renault            9003\n",
       "skoda              7228\n",
       "toyota             7076\n",
       "peugeot            6907\n",
       "hyundai            5485\n",
       "citroen            5467\n",
       "kia                4992\n",
       "nissan             4446\n",
       "volvo              4070\n",
       "fiat               3837\n",
       "seat               3823\n",
       "mazda              3547\n",
       "honda              2983\n",
       "suzuki             2221\n",
       "dacia              1919\n",
       "mitsubishi         1856\n",
       "jeep               1794\n",
       "chevrolet          1438\n",
       "mini               1290\n",
       "alfa-romeo         1216\n",
       "land-rover         1122\n",
       "porsche            1003\n",
       "lexus               972\n",
       "jaguar              900\n",
       "dodge               860\n",
       "subaru              823\n",
       "chrysler            653\n",
       "saab                340\n",
       "infiniti            280\n",
       "ssangyong           239\n",
       "smart               207\n",
       "lancia              164\n",
       "maserati            149\n",
       "cupra               148\n",
       "ds-automobiles      140\n",
       "cadillac            132\n",
       "daihatsu            131\n",
       "aixam               104\n",
       "ram                  92\n",
       "tesla                87\n",
       "isuzu                70\n",
       "bentley              57\n",
       "daewoo               57\n",
       "microcar             47\n",
       "abarth               40\n",
       "lada                 39\n",
       "lincoln              37\n",
       "rover                35\n",
       "ligier               34\n",
       "gmc                  34\n",
       "ferrari              31\n",
       "alpina               31\n",
       "aston-martin         26\n",
       "hummer               24\n",
       "lamborghini          21\n",
       "polonez              20\n",
       "buick                15\n",
       "rolls-royce          15\n",
       "acura                11\n",
       "mclaren              11\n",
       "iveco                11\n",
       "pontiac               9\n",
       "chatenet              9\n",
       "tata                  8\n",
       "other                 7\n",
       "mg                    6\n",
       "mercury               6\n",
       "casalini              4\n",
       "maybach               4\n",
       "uaz                   3\n",
       "alpine                3\n",
       "dfsk                  3\n",
       "oldsmobile            3\n",
       "man                   2\n",
       "saturn                2\n",
       "wartburg              2\n",
       "plymouth              2\n",
       "lti                   2\n",
       "wolga                 2\n",
       "moskwicz              2\n",
       "gwm                   1\n",
       "grecav                1\n",
       "baic                  1\n",
       "faw                   1\n",
       "polestar              1\n",
       "gonow                 1\n",
       "santana               1\n",
       "tarpan                1\n",
       "vauxhall              1\n",
       "trabant               1\n",
       "gaz                   1\n",
       "scion                 1\n",
       "nsu                   1\n",
       "zuk                   1\n",
       "Name: make, dtype: int64"
      ]
     },
     "execution_count": 33,
     "metadata": {},
     "output_type": "execute_result"
    }
   ],
   "source": [
    "otomoto_df.make.value_counts()"
   ]
  },
  {
   "cell_type": "code",
   "execution_count": null,
   "id": "bf0d0685",
   "metadata": {},
   "outputs": [],
   "source": []
  }
 ],
 "metadata": {
  "kernelspec": {
   "display_name": "Python 3 (ipykernel)",
   "language": "python",
   "name": "python3"
  },
  "language_info": {
   "codemirror_mode": {
    "name": "ipython",
    "version": 3
   },
   "file_extension": ".py",
   "mimetype": "text/x-python",
   "name": "python",
   "nbconvert_exporter": "python",
   "pygments_lexer": "ipython3",
   "version": "3.9.7"
  }
 },
 "nbformat": 4,
 "nbformat_minor": 5
}
